{
  "nbformat": 4,
  "nbformat_minor": 0,
  "metadata": {
    "colab": {
      "provenance": [],
      "authorship_tag": "ABX9TyNEA2OtgG/Fn5gwSDt2OogB",
      "include_colab_link": true
    },
    "kernelspec": {
      "name": "python3",
      "display_name": "Python 3"
    },
    "language_info": {
      "name": "python"
    }
  },
  "cells": [
    {
      "cell_type": "markdown",
      "metadata": {
        "id": "view-in-github",
        "colab_type": "text"
      },
      "source": [
        "<a href=\"https://colab.research.google.com/github/MasoumehLari/GEE/blob/main/NDVI.ipynb\" target=\"_parent\"><img src=\"https://colab.research.google.com/assets/colab-badge.svg\" alt=\"Open In Colab\"/></a>"
      ]
    },
    {
      "cell_type": "code",
      "execution_count": 19,
      "metadata": {
        "colab": {
          "base_uri": "https://localhost:8080/",
          "height": 17
        },
        "id": "KjeGRfaXlfJ_",
        "outputId": "5e8053c3-f240-4c28-d949-8d80a4924656"
      },
      "outputs": [
        {
          "output_type": "display_data",
          "data": {
            "text/plain": [
              "<IPython.core.display.HTML object>"
            ],
            "text/html": [
              "\n",
              "            <style>\n",
              "                .geemap-dark {\n",
              "                    --jp-widgets-color: white;\n",
              "                    --jp-widgets-label-color: white;\n",
              "                    --jp-ui-font-color1: white;\n",
              "                    --jp-layout-color2: #454545;\n",
              "                    background-color: #383838;\n",
              "                }\n",
              "\n",
              "                .geemap-dark .jupyter-button {\n",
              "                    --jp-layout-color3: #383838;\n",
              "                }\n",
              "\n",
              "                .geemap-colab {\n",
              "                    background-color: var(--colab-primary-surface-color, white);\n",
              "                }\n",
              "\n",
              "                .geemap-colab .jupyter-button {\n",
              "                    --jp-layout-color3: var(--colab-primary-surface-color, white);\n",
              "                }\n",
              "            </style>\n",
              "            "
            ]
          },
          "metadata": {}
        }
      ],
      "source": [
        "import ee, geemap\n",
        "ee.Authenticate()\n",
        "ee.Initialize(project=\"my-project-332613\")\n",
        "m = geemap.Map()\n",
        "landsat=ee.ImageCollection(\"LANDSAT/LC08/C02/T1_TOA\")\\\n",
        ".filterDate('2022-01-01','2024-01-01')\\\n",
        ".filter(ee.Filter.lt('CLOUD_COVER',5))\\\n",
        ".median();\n",
        "NDVI_EQ='B5 -B4 / (B5 + B4)'\n",
        "\n",
        "ndvi=landsat.expression(NDVI_EQ,{'B5':landsat.select(\"B5\"),'B4':landsat.select('B4')}).rename('NDVI_1')\n",
        "# or\n",
        "NDVI_EQ2=landsat.select('B5').subtract(landsat.select('B4')).divide(landsat.select('B5').add(landsat.select('B4'))).rename('NDVI_2')\n",
        "ndvi.getInfo()\n",
        "NDVI_EQ2.getInfo()\n",

      ]
    }
  ]
}
