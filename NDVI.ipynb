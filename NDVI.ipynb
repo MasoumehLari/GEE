{
  "nbformat": 4,
  "nbformat_minor": 0,
  "metadata": {
    "colab": {
      "provenance": [],
      "authorship_tag": "ABX9TyOYFp5UyigRTk0H+rIuy6iD",
      "include_colab_link": true
    },
    "kernelspec": {
      "name": "python3",
      "display_name": "Python 3"
    },
    "language_info": {
      "name": "python"
    }
  },
  "cells": [
    {
      "cell_type": "markdown",
      "metadata": {
        "id": "view-in-github",
        "colab_type": "text"
      },
      "source": [
        "<a href=\"https://colab.research.google.com/github/MasoumehLari/GEE/blob/main/NDVI.ipynb\" target=\"_parent\"><img src=\"https://colab.research.google.com/assets/colab-badge.svg\" alt=\"Open In Colab\"/></a>"
      ]
    },
    {
      "cell_type": "code",
      "execution_count": 23,
      "metadata": {
        "colab": {
          "base_uri": "https://localhost:8080/",
          "height": 106
        },
        "id": "KjeGRfaXlfJ_",
        "outputId": "ef9b5743-1180-4970-e355-554e20a87841"
      },
      "outputs": [
        {
          "output_type": "display_data",
          "data": {
            "text/plain": [
              "<IPython.core.display.HTML object>"
            ],
            "text/html": [
              "\n",
              "            <style>\n",
              "                .geemap-dark {\n",
              "                    --jp-widgets-color: white;\n",
              "                    --jp-widgets-label-color: white;\n",
              "                    --jp-ui-font-color1: white;\n",
              "                    --jp-layout-color2: #454545;\n",
              "                    background-color: #383838;\n",
              "                }\n",
              "\n",
              "                .geemap-dark .jupyter-button {\n",
              "                    --jp-layout-color3: #383838;\n",
              "                }\n",
              "\n",
              "                .geemap-colab {\n",
              "                    background-color: var(--colab-primary-surface-color, white);\n",
              "                }\n",
              "\n",
              "                .geemap-colab .jupyter-button {\n",
              "                    --jp-layout-color3: var(--colab-primary-surface-color, white);\n",
              "                }\n",
              "            </style>\n",
              "            "
            ]
          },
          "metadata": {}
        },
        {
          "output_type": "execute_result",
          "data": {
            "text/plain": [
              "{'type': 'Image',\n",
              " 'bands': [{'id': 'NDVI_2',\n",
              "   'data_type': {'type': 'PixelType', 'precision': 'float'},\n",
              "   'crs': 'EPSG:4326',\n",
              "   'crs_transform': [1, 0, 0, 0, 1, 0]}]}"
            ]
          },
          "metadata": {},
          "execution_count": 23
        }
      ],
      "source": [
        "import ee\n",
        "import geemap\n",
        "ee.Authenticate()\n",
        "ee.Initialize(project=\"my-project-332613\")\n",
        "m = geemap.Map()\n",
        "landsat=ee.ImageCollection(\"LANDSAT/LC08/C02/T1_TOA\")\\\n",
        ".filterDate('2022-01-01','2024-01-01')\\\n",
        ".filter(ee.Filter.lt('CLOUD_COVER',5))\\\n",
        ".median();\n",
        "NDVI_EQ='B5 -B4 / (B5 + B4)'\n",
        "ndvi_vis = {'min': 0, 'max': 0.5}\n",
        "ndvi=landsat.expression(NDVI_EQ,{'B5':landsat.select(\"B5\"),'B4':landsat.select('B4')}).rename('NDVI_1')\n",
        "# or\n",
        "NDVI_EQ2=landsat.select('B5').subtract(landsat.select('B4')).divide(landsat.select('B5').add(landsat.select('B4'))).rename('NDVI_2')\n",
        "ndvi.getInfo()\n",
        "NDVI_EQ2.getInfo()\n"
      ]
    }
  ]
}